{
 "cells": [
  {
   "cell_type": "code",
   "execution_count": 12,
   "id": "479deccf-d458-4d1e-a17f-fa4733966a90",
   "metadata": {},
   "outputs": [],
   "source": [
    "import pandas as pd\n",
    "import numpy as np\n",
    "import matplotlib.pyplot as plt\n",
    "import seaborn as sns\n",
    "import os"
   ]
  },
  {
   "cell_type": "code",
   "execution_count": 13,
   "id": "b636d034-70df-4b7a-a71d-0b2a30c236d8",
   "metadata": {},
   "outputs": [
    {
     "name": "stdout",
     "output_type": "stream",
     "text": [
      "['date', 'result', 'fighter', 'opponent', 'division', 'stance', 'dob', 'method', 'total_comp_time', 'round', 'time', 'referee', 'time_format', 'reach', 'height', 'age', 'knockdowns', 'sub_attempts', 'reversals', 'control', 'takedowns_landed', 'takedowns_attempts', 'sig_strikes_landed', 'sig_strikes_attempts', 'total_strikes_landed', 'total_strikes_attempts', 'head_strikes_landed', 'head_strikes_attempts', 'body_strikes_landed', 'body_strikes_attempts', 'leg_strikes_landed', 'leg_strikes_attempts', 'distance_strikes_landed', 'distance_strikes_attempts', 'clinch_strikes_landed', 'clinch_strikes_attempts', 'ground_strikes_landed', 'ground_strikes_attempts']\n"
     ]
    }
   ],
   "source": [
    "master_dataframe = pd.read_csv('cleaned_master_data.csv')\n",
    "print(master_dataframe.columns.tolist())\n"
   ]
  },
  {
   "cell_type": "markdown",
   "id": "ee64fd27-1e06-4329-8e7e-165cfbd831a1",
   "metadata": {},
   "source": [
    "## 1. Analyze High-Risk Outcomes (KO/TKO and Knockdowns)"
   ]
  },
  {
   "cell_type": "code",
   "execution_count": 14,
   "id": "0422dbf8-de92-4767-b68b-10a973f58b1d",
   "metadata": {},
   "outputs": [
    {
     "name": "stdout",
     "output_type": "stream",
     "text": [
      "KO/TKO Outcomes: 4377\n",
      "Percentage of Fights Ending in KO/TKO: 32.92%\n",
      "Average Knockdowns Per Fight: 0.22\n"
     ]
    }
   ],
   "source": [
    "# Analyze methods resulting in KO/TKO\n",
    "ko_tko = master_dataframe[master_dataframe['method'].str.contains('KO|TKO', na=False)]\n",
    "\n",
    "# Count of KO/TKO outcomes\n",
    "ko_tko_count = ko_tko['method'].count()\n",
    "total_fights = master_dataframe.shape[0]\n",
    "\n",
    "print(f\"KO/TKO Outcomes: {ko_tko_count}\")\n",
    "print(f\"Percentage of Fights Ending in KO/TKO: {ko_tko_count / total_fights * 100:.2f}%\")\n",
    "\n",
    "# Analyze average knockdowns per fight\n",
    "avg_knockdowns = master_dataframe['knockdowns'].mean()\n",
    "print(f\"Average Knockdowns Per Fight: {avg_knockdowns:.2f}\")"
   ]
  },
  {
   "cell_type": "markdown",
   "id": "96f98896-c5ef-413e-8a95-b13dcb55bf24",
   "metadata": {},
   "source": [
    "KO/TKO outcomes account for 32.92% of all fights, with an average of 0.22 knockdowns per fight. This indicates that nearly one-third of MMA fights result in high-impact outcomes, posing significant risks of head trauma or injury, especially in fights with multiple knockdowns."
   ]
  },
  {
   "cell_type": "markdown",
   "id": "eebc00a3-f6c6-418b-8456-715674717616",
   "metadata": {},
   "source": [
    "## 2. Correlate Head Strikes with KO/TKO Outcomes"
   ]
  },
  {
   "cell_type": "code",
   "execution_count": 15,
   "id": "174f06fc-89fd-43b5-8d84-f09a63ce3be7",
   "metadata": {},
   "outputs": [
    {
     "name": "stdout",
     "output_type": "stream",
     "text": [
      "Average Head Strike Ratio in KO/TKO Fights: 0.51\n"
     ]
    }
   ],
   "source": [
    "# Filter fights with high head strikes\n",
    "master_dataframe['head_strike_ratio'] = master_dataframe['head_strikes_landed'] / master_dataframe['total_strikes_landed']\n",
    "\n",
    "# Correlation between head strikes and KO/TKO outcomes\n",
    "head_strike_ko = master_dataframe[master_dataframe['method'].str.contains('KO|TKO', na=False)]\n",
    "avg_head_strike_ratio_ko = head_strike_ko['head_strike_ratio'].mean()\n",
    "\n",
    "print(f\"Average Head Strike Ratio in KO/TKO Fights: {avg_head_strike_ratio_ko:.2f}\")\n"
   ]
  },
  {
   "cell_type": "markdown",
   "id": "55d78e60-73dd-4a92-b8bc-ad13823f3540",
   "metadata": {},
   "source": [
    "The average head strike ratio in KO/TKO fights is 0.51, meaning over half of all strikes landed in such fights target the head. This highlights the potential risks associated with head trauma, as fights involving high ratios of head strikes are more likely to end in a KO/TKO."
   ]
  },
  {
   "cell_type": "markdown",
   "id": "45e29c68-d748-4ed3-a6bb-35af2a448a78",
   "metadata": {},
   "source": [
    "## 3. Analyze Fight Duration and Outcomes"
   ]
  },
  {
   "cell_type": "code",
   "execution_count": 16,
   "id": "aaea53f9-32cf-44d2-9377-814c78cb36d1",
   "metadata": {},
   "outputs": [
    {
     "name": "stdout",
     "output_type": "stream",
     "text": [
      "Average Fight Duration by Method:\n",
      "method\n",
      "U-DEC     942.083244\n",
      "S-DEC     935.950479\n",
      "M-DEC     935.083333\n",
      "DRAW      669.982759\n",
      "SUB       375.900645\n",
      "KO/TKO    350.874572\n",
      "DQ        350.450000\n",
      "Name: total_comp_time, dtype: float64\n"
     ]
    }
   ],
   "source": [
    "# Group fights by duration and outcome\n",
    "avg_fight_duration = master_dataframe.groupby('method')['total_comp_time'].mean().sort_values(ascending=False)\n",
    "\n",
    "print(\"Average Fight Duration by Method:\")\n",
    "print(avg_fight_duration)"
   ]
  },
  {
   "cell_type": "markdown",
   "id": "7b992395-8251-4a96-bcc1-40d56d937dbc",
   "metadata": {},
   "source": [
    "Fights ending in decisions (U-DEC, S-DEC, M-DEC) have the longest average durations (around 935-942 seconds), while fights ending in KO/TKO or submissions are significantly shorter (~350 seconds). Longer fights may indicate a more measured approach, potentially reducing high-risk outcomes like knockouts or submissions due to exhaustion."
   ]
  },
  {
   "cell_type": "markdown",
   "id": "452a9985-2402-4ec4-aad0-71f882a1c2eb",
   "metadata": {},
   "source": [
    "## 4. Compare Safety by Division"
   ]
  },
  {
   "cell_type": "code",
   "execution_count": 17,
   "id": "2ca73d90-bf16-40ae-b4ae-6e29681be25d",
   "metadata": {},
   "outputs": [
    {
     "name": "stdout",
     "output_type": "stream",
     "text": [
      "KO/TKO Rate by Division:\n",
      "division\n",
      "Super Heavyweight        100.000000\n",
      "Heavyweight               53.913043\n",
      "Open Weight               46.073298\n",
      "Light Heavyweight         43.570844\n",
      "Middleweight              37.039106\n",
      "Welterweight              32.458028\n",
      "Women's Featherweight     30.434783\n",
      "Catch Weight              28.888889\n",
      "Bantamweight              28.415301\n",
      "Lightweight               27.770701\n",
      "Featherweight             26.357827\n",
      "Women's Bantamweight      24.852071\n",
      "Flyweight                 22.519084\n",
      "Women's Flyweight         18.787879\n",
      "Women's Strawweight       11.914894\n",
      "dtype: float64\n"
     ]
    }
   ],
   "source": [
    "# Group by division and analyze KO/TKO rates\n",
    "division_safety = master_dataframe[master_dataframe['method'].str.contains('KO|TKO', na=False)]\n",
    "division_ko_rate = division_safety.groupby('division')['method'].count() / master_dataframe.groupby('division').size() * 100\n",
    "\n",
    "print(\"KO/TKO Rate by Division:\")\n",
    "print(division_ko_rate.sort_values(ascending=False))"
   ]
  },
  {
   "cell_type": "markdown",
   "id": "f4e481cc-230f-4e22-85f4-c3dc056cfce3",
   "metadata": {},
   "source": [
    "KO/TKO rates vary significantly across divisions, with higher rates in heavier divisions like Heavyweight (53.91%) and Super Heavyweight (100%), compared to lighter divisions like Women’s Strawweight (11.91%). This suggests that fighters in heavier divisions experience greater risks due to the higher impact of strikes."
   ]
  },
  {
   "cell_type": "markdown",
   "id": "c2945534-3891-4f7d-9e37-eb048fd8d7ca",
   "metadata": {},
   "source": [
    "## 5. Investigate Referee Impact"
   ]
  },
  {
   "cell_type": "code",
   "execution_count": 18,
   "id": "6d365d30-128c-4a24-af8c-d61606453cb6",
   "metadata": {},
   "outputs": [
    {
     "name": "stdout",
     "output_type": "stream",
     "text": [
      "Average Fight Duration by Referee:\n",
      "referee\n",
      "Nick Berens          900.0\n",
      "Shawn Gregory        900.0\n",
      "Ricky Parker         900.0\n",
      "Bo Nesslein          900.0\n",
      "Rick McCoy           900.0\n",
      "                     ...  \n",
      "Graham Bettes         97.0\n",
      "Rick Fike             68.0\n",
      "Tomaz Bendy           59.0\n",
      "Taimak Guarriello     31.0\n",
      "Lonnie Foster         21.0\n",
      "Name: total_comp_time, Length: 209, dtype: float64\n",
      "KO/TKO Rate by Referee:\n",
      "referee\n",
      "Gabe Barahona           100.0\n",
      "Steven Davis            100.0\n",
      "Sean Brockmole          100.0\n",
      "Rick Fike               100.0\n",
      "Brandon Pfannenstiel    100.0\n",
      "                        ...  \n",
      "Tomasz Bronder            NaN\n",
      "Tomaz Bendy               NaN\n",
      "Vyacheslav  Kiselev       NaN\n",
      "Wayne Spinola             NaN\n",
      "Will Fisher               NaN\n",
      "Length: 209, dtype: float64\n"
     ]
    }
   ],
   "source": [
    "# Average fight time by referee\n",
    "referee_duration = master_dataframe.groupby('referee')['total_comp_time'].mean().sort_values(ascending=False)\n",
    "\n",
    "# KO/TKO rates by referee\n",
    "referee_ko_rate = division_safety.groupby('referee')['method'].count() / master_dataframe.groupby('referee').size() * 100\n",
    "\n",
    "print(\"Average Fight Duration by Referee:\")\n",
    "print(referee_duration)\n",
    "\n",
    "print(\"KO/TKO Rate by Referee:\")\n",
    "print(referee_ko_rate.sort_values(ascending=False))"
   ]
  },
  {
   "cell_type": "markdown",
   "id": "efe8a2f2-b772-43b9-a795-daa63424b94d",
   "metadata": {},
   "source": [
    "Referees such as Gabe Barahona and Steven Davis have 100% KO/TKO rates in their officiated fights, while others like Nick Berens oversee longer-duration fights. This implies that referee decision-making and stoppage timing could significantly influence safety outcomes."
   ]
  },
  {
   "cell_type": "markdown",
   "id": "e54c4056-a5d9-4438-b33d-baa338a9f8ac",
   "metadata": {},
   "source": [
    "## 6. Fighter Age and Safety"
   ]
  },
  {
   "cell_type": "code",
   "execution_count": 19,
   "id": "00f64939-0d95-4d90-98cb-36f486c3696f",
   "metadata": {},
   "outputs": [
    {
     "name": "stdout",
     "output_type": "stream",
     "text": [
      "KO/TKO Rate for Older Fighters (>35): 40.27%\n",
      "KO/TKO Rate for Younger Fighters (<=35): 32.26%\n"
     ]
    }
   ],
   "source": [
    "# Compare KO/TKO outcomes for older and younger fighters\n",
    "older_fighters = master_dataframe[master_dataframe['age'] > 35]\n",
    "younger_fighters = master_dataframe[master_dataframe['age'] <= 35]\n",
    "\n",
    "older_ko_rate = older_fighters[older_fighters['method'].str.contains('KO|TKO', na=False)]['method'].count() / older_fighters.shape[0] * 100\n",
    "younger_ko_rate = younger_fighters[younger_fighters['method'].str.contains('KO|TKO', na=False)]['method'].count() / younger_fighters.shape[0] * 100\n",
    "\n",
    "print(f\"KO/TKO Rate for Older Fighters (>35): {older_ko_rate:.2f}%\")\n",
    "print(f\"KO/TKO Rate for Younger Fighters (<=35): {younger_ko_rate:.2f}%\")"
   ]
  },
  {
   "cell_type": "markdown",
   "id": "23168100-9867-48e0-ba3b-b4ee1063cba0",
   "metadata": {},
   "source": [
    "Older fighters (>35) have a higher KO/TKO rate (40.27%) compared to younger fighters (32.26%). This suggests that older fighters may be at greater risk of high-impact outcomes, possibly due to diminished reflexes, endurance, or accumulated damage over their careers."
   ]
  },
  {
   "cell_type": "markdown",
   "id": "65f4768c-6ddd-4f36-b314-4e707c26c270",
   "metadata": {},
   "source": [
    "## 7. Submission Trends"
   ]
  },
  {
   "cell_type": "code",
   "execution_count": 20,
   "id": "14e6ba43-a43b-4d43-99f3-7f3eeaa84c1d",
   "metadata": {},
   "outputs": [
    {
     "name": "stdout",
     "output_type": "stream",
     "text": [
      "Submission Rate: 19.83%\n"
     ]
    }
   ],
   "source": [
    "# Count submission outcomes\n",
    "submission_fights = master_dataframe[master_dataframe['method'].str.contains('SUB', na=False)]\n",
    "submission_rate = submission_fights.shape[0] / total_fights * 100\n",
    "\n",
    "print(f\"Submission Rate: {submission_rate:.2f}%\")"
   ]
  },
  {
   "cell_type": "markdown",
   "id": "ac0e2e95-dafc-4b23-85a7-fa154d7c7179",
   "metadata": {},
   "source": [
    "Submissions account for 19.83% of all outcomes, a significantly lower rate compared to KO/TKO outcomes. As submissions are generally less injury-prone than knockouts, this lower rate may reflect a preference for striking-based strategies in modern MMA."
   ]
  },
  {
   "cell_type": "markdown",
   "id": "43e3482b-981c-4a35-940d-722fa64d14b1",
   "metadata": {},
   "source": [
    "## Full Analysis and Key Safety Trends\n"
   ]
  },
  {
   "cell_type": "markdown",
   "id": "57abcd67-8f39-4e83-b548-8e6b24c0bb37",
   "metadata": {},
   "source": [
    "This data provides valuable insights into safety trends in MMA. High-risk outcomes like KO/TKOs are prevalent, accounting for nearly a third of all fights, with a strong correlation to head strikes. Heavier divisions, such as Heavyweight and Super Heavyweight, show significantly higher KO/TKO rates, indicating that the increased striking power in these divisions poses greater risks to fighter safety. Conversely, lighter divisions like Women’s Strawweight have lower KO/TKO rates, suggesting potentially safer competition. Fight duration also plays a role, with longer fights often ending in decisions, which might reduce the frequency of high-impact outcomes. Referees significantly impact safety, as seen in varying fight durations and KO/TKO rates, suggesting that their judgment in stoppages can influence injury risk.\n",
    "\n",
    "Older fighters are more likely to experience KO/TKO outcomes, highlighting potential vulnerabilities such as reduced reflexes or physical resilience. Additionally, while submissions are less common, they present a safer alternative to striking-heavy strategies, particularly in grappling-focused divisions. Overall, the data emphasizes the importance of weight classes, referees, and fighting styles in determining safety trends, offering opportunities for improved regulations and strategies to minimize high-risk outcomes in MMA."
   ]
  },
  {
   "cell_type": "code",
   "execution_count": null,
   "id": "72892207-1ae4-49ea-8e3b-f0220ef59e49",
   "metadata": {},
   "outputs": [],
   "source": []
  }
 ],
 "metadata": {
  "kernelspec": {
   "display_name": "Python 3 (ipykernel)",
   "language": "python",
   "name": "python3"
  },
  "language_info": {
   "codemirror_mode": {
    "name": "ipython",
    "version": 3
   },
   "file_extension": ".py",
   "mimetype": "text/x-python",
   "name": "python",
   "nbconvert_exporter": "python",
   "pygments_lexer": "ipython3",
   "version": "3.10.8"
  }
 },
 "nbformat": 4,
 "nbformat_minor": 5
}
